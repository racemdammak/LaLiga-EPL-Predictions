{
 "cells": [
  {
   "cell_type": "code",
   "execution_count": 3,
   "id": "413d0c6e",
   "metadata": {},
   "outputs": [],
   "source": [
    "import pandas as pd"
   ]
  },
  {
   "cell_type": "code",
   "execution_count": 5,
   "id": "d4351d03",
   "metadata": {},
   "outputs": [],
   "source": [
    "standings = pd.read_csv(\"data/tunisian_league_standings2026.csv\", encoding=\"utf-8\")\n",
    "home = pd.read_csv(\"data/home_standings2026.csv\", encoding=\"utf-8\")\n",
    "away = pd.read_csv(\"data/away_standings2026.csv\", encoding=\"utf-8\")"
   ]
  },
  {
   "cell_type": "code",
   "execution_count": 6,
   "id": "c60b11d4",
   "metadata": {},
   "outputs": [
    {
     "data": {
      "text/plain": [
       "Index(['Team', 'Position', 'Pts', 'Wins', 'Draws', 'Losses', 'GoalsFor',\n",
       "       'GoalsAgainst', 'GoalsDifference'],\n",
       "      dtype='object')"
      ]
     },
     "execution_count": 6,
     "metadata": {},
     "output_type": "execute_result"
    }
   ],
   "source": [
    "standings.columns"
   ]
  },
  {
   "cell_type": "code",
   "execution_count": 7,
   "id": "3dcb91dc",
   "metadata": {},
   "outputs": [
    {
     "data": {
      "text/plain": [
       "Index(['Team', 'Position', 'Pts', 'Wins', 'Draws', 'Losses', 'GoalsFor',\n",
       "       'GoalsAgainst', 'GoalsDifference'],\n",
       "      dtype='object')"
      ]
     },
     "execution_count": 7,
     "metadata": {},
     "output_type": "execute_result"
    }
   ],
   "source": [
    "home.columns"
   ]
  },
  {
   "cell_type": "code",
   "execution_count": 8,
   "id": "f911e207",
   "metadata": {},
   "outputs": [
    {
     "data": {
      "text/plain": [
       "Index(['Team', 'Position', 'Pts', 'Wins', 'Draws', 'Losses', 'GoalsFor',\n",
       "       'GoalsAgainst', 'GoalsDifference'],\n",
       "      dtype='object')"
      ]
     },
     "execution_count": 8,
     "metadata": {},
     "output_type": "execute_result"
    }
   ],
   "source": [
    "away.columns"
   ]
  },
  {
   "cell_type": "code",
   "execution_count": 9,
   "id": "ffef1cb6",
   "metadata": {},
   "outputs": [],
   "source": [
    "championship_data = pd.DataFrame()\n",
    "\n",
    "championship_data[\"Team\"] = standings[\"Team\"]\n",
    "championship_data[\"Position\"] = standings[\"Position\"]\n",
    "championship_data[\"Pts\"] = standings[\"Pts\"]\n",
    "championship_data[\"Wins\"] = standings[\"Wins\"]\n",
    "championship_data[\"Draws\"] = standings[\"Draws\"]\n",
    "championship_data[\"Losses\"] = standings[\"Losses\"]\n",
    "championship_data[\"GoalsFor\"] = standings[\"GoalsFor\"]\n",
    "championship_data[\"GoalsAgainst\"] = standings[\"GoalsAgainst\"]\n",
    "championship_data[\"GoalsDifference\"] = standings[\"GoalsDifference\"]\n",
    "championship_data[\"HomeWins\"] = home[\"Wins\"]\n",
    "championship_data[\"HomeDraws\"] = home[\"Draws\"]\n",
    "championship_data[\"HomeLosses\"] = home[\"Losses\"]\n",
    "championship_data[\"HomeGoalsFor\"] = home[\"GoalsFor\"]\n",
    "championship_data[\"HomeGoalsAgainst\"] = home[\"GoalsAgainst\"]\n",
    "championship_data[\"HomeGoalsDifference\"] = home[\"GoalsDifference\"]\n",
    "championship_data[\"AwayWins\"] = away[\"Wins\"]\n",
    "championship_data[\"AwayDraws\"] = away[\"Draws\"]\n",
    "championship_data[\"AwayLosses\"] = away[\"Losses\"]\n",
    "championship_data[\"AwayGoalsFor\"] = away[\"GoalsFor\"]\n",
    "championship_data[\"AwayGoalsAgainst\"] = away[\"GoalsAgainst\"]\n",
    "championship_data[\"AwayGoalsDifference\"] = away[\"GoalsDifference\"]\n",
    "championship_data[\"MP\"] = standings[\"Wins\"] + standings[\"Draws\"] + standings[\"Losses\"]\n",
    "championship_data[\"PtsPerGame\"] = championship_data[\"Pts\"] / championship_data[\"MP\"]\n",
    "championship_data[\"GapToFirst\"] = championship_data[\"Pts\"] - championship_data[\"Pts\"].max()"
   ]
  },
  {
   "cell_type": "code",
   "execution_count": 10,
   "id": "dfbf9766",
   "metadata": {},
   "outputs": [],
   "source": [
    "championship_data.to_csv(\"data/tun26.csv\", index=False, encoding=\"utf-8\")"
   ]
  }
 ],
 "metadata": {
  "kernelspec": {
   "display_name": "Python 3",
   "language": "python",
   "name": "python3"
  },
  "language_info": {
   "codemirror_mode": {
    "name": "ipython",
    "version": 3
   },
   "file_extension": ".py",
   "mimetype": "text/x-python",
   "name": "python",
   "nbconvert_exporter": "python",
   "pygments_lexer": "ipython3",
   "version": "3.13.1"
  }
 },
 "nbformat": 4,
 "nbformat_minor": 5
}
