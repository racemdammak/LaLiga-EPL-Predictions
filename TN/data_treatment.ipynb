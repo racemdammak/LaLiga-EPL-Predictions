{
 "cells": [
  {
   "cell_type": "code",
   "execution_count": 169,
   "id": "413d0c6e",
   "metadata": {},
   "outputs": [],
   "source": [
    "import numpy as np\n",
    "import pandas as pd"
   ]
  },
  {
   "cell_type": "code",
   "execution_count": 170,
   "id": "d4351d03",
   "metadata": {},
   "outputs": [
    {
     "data": {
      "text/plain": [
       "'standings_relegation = pd.read_csv(\"data/2022/relegation/relegation_standings2022.csv\", encoding=\"utf-8\")\\nhome_relegation = pd.read_csv(\"data/2022/relegation/relegation_home_standings2022.csv\", encoding=\"utf-8\")\\naway_relegation = pd.read_csv(\"data/2022/relegation/relegation_away_standings2022.csv\", encoding=\"utf-8\")\\n\\nstandings_g1 = pd.read_csv(\"data/2022/group1/group1_standings2022.csv\", encoding=\"utf-8\")\\nhome_g1 = pd.read_csv(\"data/2022/group1/group1_home_standings2022.csv\", encoding=\"utf-8\")\\naway_g1 = pd.read_csv(\"data/2022/group1/group1_away_standings2022.csv\", encoding=\"utf-8\")\\n\\nstandings_g2 = pd.read_csv(\"data/2022/group2/group2_standings2022.csv\", encoding=\"utf-8\")\\nhome_g2 = pd.read_csv(\"data/2022/group2/group2_home_standings2022.csv\", encoding=\"utf-8\")\\naway_g2 = pd.read_csv(\"data/2022/group2/group2_away_standings2022.csv\", encoding=\"utf-8\")'"
      ]
     },
     "execution_count": 170,
     "metadata": {},
     "output_type": "execute_result"
    }
   ],
   "source": [
    "standings_championship = pd.read_csv(\"data/2022/championship/championship_standings2022.csv\", encoding=\"utf-8\")\n",
    "home_championship = pd.read_csv(\"data/2022/championship/championship_home_standings2022.csv\", encoding=\"utf-8\")\n",
    "away_championship = pd.read_csv(\"data/2022/championship/championship_away_standings2022.csv\", encoding=\"utf-8\")\n",
    "\n",
    "'''standings_relegation = pd.read_csv(\"data/2022/relegation/relegation_standings2022.csv\", encoding=\"utf-8\")\n",
    "home_relegation = pd.read_csv(\"data/2022/relegation/relegation_home_standings2022.csv\", encoding=\"utf-8\")\n",
    "away_relegation = pd.read_csv(\"data/2022/relegation/relegation_away_standings2022.csv\", encoding=\"utf-8\")\n",
    "\n",
    "standings_g1 = pd.read_csv(\"data/2022/group1/group1_standings2022.csv\", encoding=\"utf-8\")\n",
    "home_g1 = pd.read_csv(\"data/2022/group1/group1_home_standings2022.csv\", encoding=\"utf-8\")\n",
    "away_g1 = pd.read_csv(\"data/2022/group1/group1_away_standings2022.csv\", encoding=\"utf-8\")\n",
    "\n",
    "standings_g2 = pd.read_csv(\"data/2022/group2/group2_standings2022.csv\", encoding=\"utf-8\")\n",
    "home_g2 = pd.read_csv(\"data/2022/group2/group2_home_standings2022.csv\", encoding=\"utf-8\")\n",
    "away_g2 = pd.read_csv(\"data/2022/group2/group2_away_standings2022.csv\", encoding=\"utf-8\")'''\n"
   ]
  },
  {
   "cell_type": "code",
   "execution_count": 171,
   "id": "c60b11d4",
   "metadata": {},
   "outputs": [
    {
     "data": {
      "text/plain": [
       "Index(['Team', 'Position', 'Pts', 'Wins', 'Draws', 'Losses', 'GoalsFor',\n",
       "       'GoalsAgainst', 'GoalsDifference'],\n",
       "      dtype='object')"
      ]
     },
     "execution_count": 171,
     "metadata": {},
     "output_type": "execute_result"
    }
   ],
   "source": [
    "standings_championship.columns"
   ]
  },
  {
   "cell_type": "code",
   "execution_count": 172,
   "id": "3dcb91dc",
   "metadata": {},
   "outputs": [
    {
     "data": {
      "text/plain": [
       "Index(['Team', 'Position', 'Pts', 'Wins', 'Draws', 'Losses', 'GoalsFor',\n",
       "       'GoalsAgainst', 'GoalsDifference'],\n",
       "      dtype='object')"
      ]
     },
     "execution_count": 172,
     "metadata": {},
     "output_type": "execute_result"
    }
   ],
   "source": [
    "home_championship.columns"
   ]
  },
  {
   "cell_type": "code",
   "execution_count": 173,
   "id": "f911e207",
   "metadata": {},
   "outputs": [
    {
     "data": {
      "text/plain": [
       "Index(['Team', 'Position', 'Pts', 'Wins', 'Draws', 'Losses', 'GoalsFor',\n",
       "       'GoalsAgainst', 'GoalsDifference'],\n",
       "      dtype='object')"
      ]
     },
     "execution_count": 173,
     "metadata": {},
     "output_type": "execute_result"
    }
   ],
   "source": [
    "away_championship.columns"
   ]
  },
  {
   "cell_type": "code",
   "execution_count": 174,
   "id": "020a948f",
   "metadata": {},
   "outputs": [],
   "source": [
    "championship_data = pd.DataFrame()\n",
    "\n",
    "championship_data[\"Team\"] = standings_championship[\"Team\"]\n",
    "championship_data[\"Position\"] = standings_championship[\"Position\"]\n",
    "championship_data[\"Pts\"] = standings_championship[\"Pts\"]\n",
    "championship_data[\"Wins\"] = standings_championship[\"Wins\"]\n",
    "championship_data[\"Draws\"] = standings_championship[\"Draws\"]\n",
    "championship_data[\"Losses\"] = standings_championship[\"Losses\"]\n",
    "championship_data[\"GoalsFor\"] = standings_championship[\"GoalsFor\"]\n",
    "championship_data[\"GoalsAgainst\"] = standings_championship[\"GoalsAgainst\"]\n",
    "championship_data[\"GoalsDifference\"] = standings_championship[\"GoalsDifference\"]\n",
    "championship_data[\"HomeWins\"] = home_championship[\"Wins\"]\n",
    "championship_data[\"HomeDraws\"] = home_championship[\"Draws\"]\n",
    "championship_data[\"HomeLosses\"] = home_championship[\"Losses\"]\n",
    "championship_data[\"HomeGoalsFor\"] = home_championship[\"GoalsFor\"]\n",
    "championship_data[\"HomeGoalsAgainst\"] = home_championship[\"GoalsAgainst\"]\n",
    "championship_data[\"HomeGoalsDifference\"] = home_championship[\"GoalsDifference\"]\n",
    "championship_data[\"AwayWins\"] = away_championship[\"Wins\"]\n",
    "championship_data[\"AwayDraws\"] = away_championship[\"Draws\"]\n",
    "championship_data[\"AwayLosses\"] = away_championship[\"Losses\"]\n",
    "championship_data[\"AwayGoalsFor\"] = away_championship[\"GoalsFor\"]\n",
    "championship_data[\"AwayGoalsAgainst\"] = away_championship[\"GoalsAgainst\"]\n",
    "championship_data[\"AwayGoalsDifference\"] = away_championship[\"GoalsDifference\"]\n",
    "championship_data[\"MP\"] = standings_championship[\"Wins\"] + standings_championship[\"Draws\"] + standings_championship[\"Losses\"]\n",
    "championship_data[\"PtsPerGame\"] = championship_data[\"Pts\"] / championship_data[\"MP\"]\n",
    "championship_data[\"GapToFirst\"] = championship_data[\"Pts\"] - championship_data[\"Pts\"].max()"
   ]
  },
  {
   "cell_type": "code",
   "execution_count": 175,
   "id": "21fbb8b9",
   "metadata": {},
   "outputs": [
    {
     "data": {
      "text/plain": [
       "'relegation_data = pd.DataFrame()\\n\\nrelegation_data[\"Team\"] = standings_relegation[\"Team\"]\\nrelegation_data[\"Position\"] = standings_relegation[\"Position\"]\\nrelegation_data[\"Pts\"] = standings_relegation[\"Pts\"]\\nrelegation_data[\"Wins\"] = standings_relegation[\"Wins\"]\\nrelegation_data[\"Draws\"] = standings_relegation[\"Draws\"]\\nrelegation_data[\"Losses\"] = standings_relegation[\"Losses\"]\\nrelegation_data[\"GoalsFor\"] = standings_relegation[\"GoalsFor\"]\\nrelegation_data[\"GoalsAgainst\"] = standings_relegation[\"GoalsAgainst\"]\\nrelegation_data[\"GoalsDifference\"] = standings_relegation[\"GoalsDifference\"]\\nrelegation_data[\"HomeWins\"] = home_relegation[\"Wins\"]\\nrelegation_data[\"HomeDraws\"] = home_relegation[\"Draws\"]\\nrelegation_data[\"HomeLosses\"] = home_relegation[\"Losses\"]\\nrelegation_data[\"HomeGoalsFor\"] = home_relegation[\"GoalsFor\"]\\nrelegation_data[\"HomeGoalsAgainst\"] = home_relegation[\"GoalsAgainst\"]\\nrelegation_data[\"HomeGoalsDifference\"] = home_relegation[\"GoalsDifference\"]\\nrelegation_data[\"AwayWins\"] = away_relegation[\"Wins\"]\\nrelegation_data[\"AwayDraws\"] = away_relegation[\"Draws\"]\\nrelegation_data[\"AwayLosses\"] = away_relegation[\"Losses\"]\\nrelegation_data[\"AwayGoalsFor\"] = away_relegation[\"GoalsFor\"]\\nrelegation_data[\"AwayGoalsAgainst\"] = away_relegation[\"GoalsAgainst\"]\\nrelegation_data[\"AwayGoalsDifference\"] = away_relegation[\"GoalsDifference\"]'"
      ]
     },
     "execution_count": 175,
     "metadata": {},
     "output_type": "execute_result"
    }
   ],
   "source": [
    "'''relegation_data = pd.DataFrame()\n",
    "\n",
    "relegation_data[\"Team\"] = standings_relegation[\"Team\"]\n",
    "relegation_data[\"Position\"] = standings_relegation[\"Position\"]\n",
    "relegation_data[\"Pts\"] = standings_relegation[\"Pts\"]\n",
    "relegation_data[\"Wins\"] = standings_relegation[\"Wins\"]\n",
    "relegation_data[\"Draws\"] = standings_relegation[\"Draws\"]\n",
    "relegation_data[\"Losses\"] = standings_relegation[\"Losses\"]\n",
    "relegation_data[\"GoalsFor\"] = standings_relegation[\"GoalsFor\"]\n",
    "relegation_data[\"GoalsAgainst\"] = standings_relegation[\"GoalsAgainst\"]\n",
    "relegation_data[\"GoalsDifference\"] = standings_relegation[\"GoalsDifference\"]\n",
    "relegation_data[\"HomeWins\"] = home_relegation[\"Wins\"]\n",
    "relegation_data[\"HomeDraws\"] = home_relegation[\"Draws\"]\n",
    "relegation_data[\"HomeLosses\"] = home_relegation[\"Losses\"]\n",
    "relegation_data[\"HomeGoalsFor\"] = home_relegation[\"GoalsFor\"]\n",
    "relegation_data[\"HomeGoalsAgainst\"] = home_relegation[\"GoalsAgainst\"]\n",
    "relegation_data[\"HomeGoalsDifference\"] = home_relegation[\"GoalsDifference\"]\n",
    "relegation_data[\"AwayWins\"] = away_relegation[\"Wins\"]\n",
    "relegation_data[\"AwayDraws\"] = away_relegation[\"Draws\"]\n",
    "relegation_data[\"AwayLosses\"] = away_relegation[\"Losses\"]\n",
    "relegation_data[\"AwayGoalsFor\"] = away_relegation[\"GoalsFor\"]\n",
    "relegation_data[\"AwayGoalsAgainst\"] = away_relegation[\"GoalsAgainst\"]\n",
    "relegation_data[\"AwayGoalsDifference\"] = away_relegation[\"GoalsDifference\"]'''"
   ]
  },
  {
   "cell_type": "code",
   "execution_count": 176,
   "id": "73d5eaa3",
   "metadata": {},
   "outputs": [
    {
     "data": {
      "text/plain": [
       "'group1_data = pd.DataFrame()\\n\\ngroup1_data[\"Team\"] = standings_g1[\"Team\"]\\ngroup1_data[\"Position\"] = standings_g1[\"Position\"]\\ngroup1_data[\"Pts\"] = standings_g1[\"Pts\"]\\ngroup1_data[\"Wins\"] = standings_g1[\"Wins\"]\\ngroup1_data[\"Draws\"] = standings_g1[\"Draws\"]\\ngroup1_data[\"Losses\"] = standings_g1[\"Losses\"]\\ngroup1_data[\"GoalsFor\"] = standings_g1[\"GoalsFor\"]\\ngroup1_data[\"GoalsAgainst\"] = standings_g1[\"GoalsAgainst\"]\\ngroup1_data[\"GoalsDifference\"] = standings_g1[\"GoalsDifference\"]\\ngroup1_data[\"HomeWins\"] = home_g1[\"Wins\"]\\ngroup1_data[\"HomeDraws\"] = home_g1[\"Draws\"]\\ngroup1_data[\"HomeLosses\"] = home_g1[\"Losses\"]\\ngroup1_data[\"HomeGoalsFor\"] = home_g1[\"GoalsFor\"]\\ngroup1_data[\"HomeGoalsAgainst\"] = home_g1[\"GoalsAgainst\"]\\ngroup1_data[\"HomeGoalsDifference\"] = home_g1[\"GoalsDifference\"]\\ngroup1_data[\"AwayWins\"] = away_g1[\"Wins\"]\\ngroup1_data[\"AwayDraws\"] = away_g1[\"Draws\"]\\ngroup1_data[\"AwayLosses\"] = away_g1[\"Losses\"]\\ngroup1_data[\"AwayGoalsFor\"] = away_g1[\"GoalsFor\"]\\ngroup1_data[\"AwayGoalsAgainst\"] = away_g1[\"GoalsAgainst\"]\\ngroup1_data[\"AwayGoalsDifference\"] = away_g1[\"GoalsDifference\"]'"
      ]
     },
     "execution_count": 176,
     "metadata": {},
     "output_type": "execute_result"
    }
   ],
   "source": [
    "'''group1_data = pd.DataFrame()\n",
    "\n",
    "group1_data[\"Team\"] = standings_g1[\"Team\"]\n",
    "group1_data[\"Position\"] = standings_g1[\"Position\"]\n",
    "group1_data[\"Pts\"] = standings_g1[\"Pts\"]\n",
    "group1_data[\"Wins\"] = standings_g1[\"Wins\"]\n",
    "group1_data[\"Draws\"] = standings_g1[\"Draws\"]\n",
    "group1_data[\"Losses\"] = standings_g1[\"Losses\"]\n",
    "group1_data[\"GoalsFor\"] = standings_g1[\"GoalsFor\"]\n",
    "group1_data[\"GoalsAgainst\"] = standings_g1[\"GoalsAgainst\"]\n",
    "group1_data[\"GoalsDifference\"] = standings_g1[\"GoalsDifference\"]\n",
    "group1_data[\"HomeWins\"] = home_g1[\"Wins\"]\n",
    "group1_data[\"HomeDraws\"] = home_g1[\"Draws\"]\n",
    "group1_data[\"HomeLosses\"] = home_g1[\"Losses\"]\n",
    "group1_data[\"HomeGoalsFor\"] = home_g1[\"GoalsFor\"]\n",
    "group1_data[\"HomeGoalsAgainst\"] = home_g1[\"GoalsAgainst\"]\n",
    "group1_data[\"HomeGoalsDifference\"] = home_g1[\"GoalsDifference\"]\n",
    "group1_data[\"AwayWins\"] = away_g1[\"Wins\"]\n",
    "group1_data[\"AwayDraws\"] = away_g1[\"Draws\"]\n",
    "group1_data[\"AwayLosses\"] = away_g1[\"Losses\"]\n",
    "group1_data[\"AwayGoalsFor\"] = away_g1[\"GoalsFor\"]\n",
    "group1_data[\"AwayGoalsAgainst\"] = away_g1[\"GoalsAgainst\"]\n",
    "group1_data[\"AwayGoalsDifference\"] = away_g1[\"GoalsDifference\"]'''"
   ]
  },
  {
   "cell_type": "code",
   "execution_count": 177,
   "id": "6faad46d",
   "metadata": {},
   "outputs": [
    {
     "data": {
      "text/plain": [
       "'group2_data = pd.DataFrame()\\n\\ngroup2_data[\"Team\"] = standings_g2[\"Team\"]\\ngroup2_data[\"Position\"] = standings_g2[\"Position\"]\\ngroup2_data[\"Pts\"] = standings_g2[\"Pts\"]\\ngroup2_data[\"Wins\"] = standings_g2[\"Wins\"]\\ngroup2_data[\"Draws\"] = standings_g2[\"Draws\"]\\ngroup2_data[\"Losses\"] = standings_g2[\"Losses\"]\\ngroup2_data[\"GoalsFor\"] = standings_g2[\"GoalsFor\"]\\ngroup2_data[\"GoalsAgainst\"] = standings_g2[\"GoalsAgainst\"]\\ngroup2_data[\"GoalsDifference\"] = standings_g2[\"GoalsDifference\"]\\ngroup2_data[\"HomeWins\"] = home_g2[\"Wins\"]\\ngroup2_data[\"HomeDraws\"] = home_g2[\"Draws\"]\\ngroup2_data[\"HomeLosses\"] = home_g2[\"Losses\"]\\ngroup2_data[\"HomeGoalsFor\"] = home_g2[\"GoalsFor\"]\\ngroup2_data[\"HomeGoalsAgainst\"] = home_g2[\"GoalsAgainst\"]\\ngroup2_data[\"HomeGoalsDifference\"] = home_g2[\"GoalsDifference\"]\\ngroup2_data[\"AwayWins\"] = away_g2[\"Wins\"]\\ngroup2_data[\"AwayDraws\"] = away_g2[\"Draws\"]\\ngroup2_data[\"AwayLosses\"] = away_g2[\"Losses\"]\\ngroup2_data[\"AwayGoalsFor\"] = away_g2[\"GoalsFor\"]\\ngroup2_data[\"AwayGoalsAgainst\"] = away_g2[\"GoalsAgainst\"]\\ngroup2_data[\"AwayGoalsDifference\"] = away_g2[\"GoalsDifference\"]'"
      ]
     },
     "execution_count": 177,
     "metadata": {},
     "output_type": "execute_result"
    }
   ],
   "source": [
    "'''group2_data = pd.DataFrame()\n",
    "\n",
    "group2_data[\"Team\"] = standings_g2[\"Team\"]\n",
    "group2_data[\"Position\"] = standings_g2[\"Position\"]\n",
    "group2_data[\"Pts\"] = standings_g2[\"Pts\"]\n",
    "group2_data[\"Wins\"] = standings_g2[\"Wins\"]\n",
    "group2_data[\"Draws\"] = standings_g2[\"Draws\"]\n",
    "group2_data[\"Losses\"] = standings_g2[\"Losses\"]\n",
    "group2_data[\"GoalsFor\"] = standings_g2[\"GoalsFor\"]\n",
    "group2_data[\"GoalsAgainst\"] = standings_g2[\"GoalsAgainst\"]\n",
    "group2_data[\"GoalsDifference\"] = standings_g2[\"GoalsDifference\"]\n",
    "group2_data[\"HomeWins\"] = home_g2[\"Wins\"]\n",
    "group2_data[\"HomeDraws\"] = home_g2[\"Draws\"]\n",
    "group2_data[\"HomeLosses\"] = home_g2[\"Losses\"]\n",
    "group2_data[\"HomeGoalsFor\"] = home_g2[\"GoalsFor\"]\n",
    "group2_data[\"HomeGoalsAgainst\"] = home_g2[\"GoalsAgainst\"]\n",
    "group2_data[\"HomeGoalsDifference\"] = home_g2[\"GoalsDifference\"]\n",
    "group2_data[\"AwayWins\"] = away_g2[\"Wins\"]\n",
    "group2_data[\"AwayDraws\"] = away_g2[\"Draws\"]\n",
    "group2_data[\"AwayLosses\"] = away_g2[\"Losses\"]\n",
    "group2_data[\"AwayGoalsFor\"] = away_g2[\"GoalsFor\"]\n",
    "group2_data[\"AwayGoalsAgainst\"] = away_g2[\"GoalsAgainst\"]\n",
    "group2_data[\"AwayGoalsDifference\"] = away_g2[\"GoalsDifference\"]'''"
   ]
  },
  {
   "cell_type": "code",
   "execution_count": 178,
   "id": "1c7742d2",
   "metadata": {},
   "outputs": [
    {
     "data": {
      "text/plain": [
       "'full_data = pd.DataFrame()\\nfull_data = pd.concat([championship_data, relegation_data, group1_data, group2_data], ignore_index=True)'"
      ]
     },
     "execution_count": 178,
     "metadata": {},
     "output_type": "execute_result"
    }
   ],
   "source": [
    "'''full_data = pd.DataFrame()\n",
    "full_data = pd.concat([championship_data, relegation_data, group1_data, group2_data], ignore_index=True)'''"
   ]
  },
  {
   "cell_type": "code",
   "execution_count": 179,
   "id": "53a475e7",
   "metadata": {},
   "outputs": [
    {
     "data": {
      "text/html": [
       "<div>\n",
       "<style scoped>\n",
       "    .dataframe tbody tr th:only-of-type {\n",
       "        vertical-align: middle;\n",
       "    }\n",
       "\n",
       "    .dataframe tbody tr th {\n",
       "        vertical-align: top;\n",
       "    }\n",
       "\n",
       "    .dataframe thead th {\n",
       "        text-align: right;\n",
       "    }\n",
       "</style>\n",
       "<table border=\"1\" class=\"dataframe\">\n",
       "  <thead>\n",
       "    <tr style=\"text-align: right;\">\n",
       "      <th></th>\n",
       "      <th>Team</th>\n",
       "      <th>Position</th>\n",
       "      <th>Pts</th>\n",
       "      <th>Wins</th>\n",
       "      <th>Draws</th>\n",
       "      <th>Losses</th>\n",
       "      <th>GoalsFor</th>\n",
       "      <th>GoalsAgainst</th>\n",
       "      <th>GoalsDifference</th>\n",
       "      <th>HomeWins</th>\n",
       "      <th>...</th>\n",
       "      <th>HomeGoalsDifference</th>\n",
       "      <th>AwayWins</th>\n",
       "      <th>AwayDraws</th>\n",
       "      <th>AwayLosses</th>\n",
       "      <th>AwayGoalsFor</th>\n",
       "      <th>AwayGoalsAgainst</th>\n",
       "      <th>AwayGoalsDifference</th>\n",
       "      <th>MP</th>\n",
       "      <th>PtsPerGame</th>\n",
       "      <th>GapToFirst</th>\n",
       "    </tr>\n",
       "  </thead>\n",
       "  <tbody>\n",
       "    <tr>\n",
       "      <th>0</th>\n",
       "      <td>Espérance Tunis</td>\n",
       "      <td>1</td>\n",
       "      <td>24</td>\n",
       "      <td>6</td>\n",
       "      <td>3</td>\n",
       "      <td>1</td>\n",
       "      <td>16</td>\n",
       "      <td>8</td>\n",
       "      <td>8</td>\n",
       "      <td>5</td>\n",
       "      <td>...</td>\n",
       "      <td>6</td>\n",
       "      <td>2</td>\n",
       "      <td>1</td>\n",
       "      <td>2</td>\n",
       "      <td>9</td>\n",
       "      <td>7</td>\n",
       "      <td>2</td>\n",
       "      <td>10</td>\n",
       "      <td>2.4</td>\n",
       "      <td>0</td>\n",
       "    </tr>\n",
       "    <tr>\n",
       "      <th>1</th>\n",
       "      <td>US Monastir</td>\n",
       "      <td>2</td>\n",
       "      <td>22</td>\n",
       "      <td>6</td>\n",
       "      <td>2</td>\n",
       "      <td>2</td>\n",
       "      <td>16</td>\n",
       "      <td>9</td>\n",
       "      <td>7</td>\n",
       "      <td>4</td>\n",
       "      <td>...</td>\n",
       "      <td>5</td>\n",
       "      <td>1</td>\n",
       "      <td>3</td>\n",
       "      <td>1</td>\n",
       "      <td>7</td>\n",
       "      <td>5</td>\n",
       "      <td>2</td>\n",
       "      <td>10</td>\n",
       "      <td>2.2</td>\n",
       "      <td>-2</td>\n",
       "    </tr>\n",
       "    <tr>\n",
       "      <th>2</th>\n",
       "      <td>CS Sfaxien</td>\n",
       "      <td>3</td>\n",
       "      <td>16</td>\n",
       "      <td>3</td>\n",
       "      <td>5</td>\n",
       "      <td>2</td>\n",
       "      <td>10</td>\n",
       "      <td>7</td>\n",
       "      <td>3</td>\n",
       "      <td>2</td>\n",
       "      <td>...</td>\n",
       "      <td>4</td>\n",
       "      <td>2</td>\n",
       "      <td>0</td>\n",
       "      <td>3</td>\n",
       "      <td>6</td>\n",
       "      <td>5</td>\n",
       "      <td>1</td>\n",
       "      <td>10</td>\n",
       "      <td>1.6</td>\n",
       "      <td>-8</td>\n",
       "    </tr>\n",
       "    <tr>\n",
       "      <th>3</th>\n",
       "      <td>Club Africain</td>\n",
       "      <td>4</td>\n",
       "      <td>15</td>\n",
       "      <td>3</td>\n",
       "      <td>3</td>\n",
       "      <td>4</td>\n",
       "      <td>6</td>\n",
       "      <td>10</td>\n",
       "      <td>-4</td>\n",
       "      <td>2</td>\n",
       "      <td>...</td>\n",
       "      <td>1</td>\n",
       "      <td>1</td>\n",
       "      <td>2</td>\n",
       "      <td>2</td>\n",
       "      <td>3</td>\n",
       "      <td>4</td>\n",
       "      <td>-1</td>\n",
       "      <td>10</td>\n",
       "      <td>1.5</td>\n",
       "      <td>-9</td>\n",
       "    </tr>\n",
       "    <tr>\n",
       "      <th>4</th>\n",
       "      <td>Etoile Sportive Du Sahel</td>\n",
       "      <td>5</td>\n",
       "      <td>13</td>\n",
       "      <td>3</td>\n",
       "      <td>3</td>\n",
       "      <td>4</td>\n",
       "      <td>13</td>\n",
       "      <td>11</td>\n",
       "      <td>2</td>\n",
       "      <td>1</td>\n",
       "      <td>...</td>\n",
       "      <td>1</td>\n",
       "      <td>1</td>\n",
       "      <td>1</td>\n",
       "      <td>3</td>\n",
       "      <td>2</td>\n",
       "      <td>7</td>\n",
       "      <td>-5</td>\n",
       "      <td>10</td>\n",
       "      <td>1.3</td>\n",
       "      <td>-11</td>\n",
       "    </tr>\n",
       "    <tr>\n",
       "      <th>5</th>\n",
       "      <td>US Ben Guerdane</td>\n",
       "      <td>6</td>\n",
       "      <td>3</td>\n",
       "      <td>0</td>\n",
       "      <td>2</td>\n",
       "      <td>8</td>\n",
       "      <td>3</td>\n",
       "      <td>19</td>\n",
       "      <td>-16</td>\n",
       "      <td>0</td>\n",
       "      <td>...</td>\n",
       "      <td>-11</td>\n",
       "      <td>0</td>\n",
       "      <td>2</td>\n",
       "      <td>3</td>\n",
       "      <td>2</td>\n",
       "      <td>7</td>\n",
       "      <td>-5</td>\n",
       "      <td>10</td>\n",
       "      <td>0.3</td>\n",
       "      <td>-21</td>\n",
       "    </tr>\n",
       "  </tbody>\n",
       "</table>\n",
       "<p>6 rows × 24 columns</p>\n",
       "</div>"
      ],
      "text/plain": [
       "                       Team  Position  Pts  Wins  Draws  Losses  GoalsFor  \\\n",
       "0           Espérance Tunis         1   24     6      3       1        16   \n",
       "1               US Monastir         2   22     6      2       2        16   \n",
       "2                CS Sfaxien         3   16     3      5       2        10   \n",
       "3             Club Africain         4   15     3      3       4         6   \n",
       "4  Etoile Sportive Du Sahel         5   13     3      3       4        13   \n",
       "5           US Ben Guerdane         6    3     0      2       8         3   \n",
       "\n",
       "   GoalsAgainst  GoalsDifference  HomeWins  ...  HomeGoalsDifference  \\\n",
       "0             8                8         5  ...                    6   \n",
       "1             9                7         4  ...                    5   \n",
       "2             7                3         2  ...                    4   \n",
       "3            10               -4         2  ...                    1   \n",
       "4            11                2         1  ...                    1   \n",
       "5            19              -16         0  ...                  -11   \n",
       "\n",
       "   AwayWins  AwayDraws  AwayLosses  AwayGoalsFor  AwayGoalsAgainst  \\\n",
       "0         2          1           2             9                 7   \n",
       "1         1          3           1             7                 5   \n",
       "2         2          0           3             6                 5   \n",
       "3         1          2           2             3                 4   \n",
       "4         1          1           3             2                 7   \n",
       "5         0          2           3             2                 7   \n",
       "\n",
       "   AwayGoalsDifference  MP  PtsPerGame  GapToFirst  \n",
       "0                    2  10         2.4           0  \n",
       "1                    2  10         2.2          -2  \n",
       "2                    1  10         1.6          -8  \n",
       "3                   -1  10         1.5          -9  \n",
       "4                   -5  10         1.3         -11  \n",
       "5                   -5  10         0.3         -21  \n",
       "\n",
       "[6 rows x 24 columns]"
      ]
     },
     "execution_count": 179,
     "metadata": {},
     "output_type": "execute_result"
    }
   ],
   "source": [
    "championship_data"
   ]
  },
  {
   "cell_type": "code",
   "execution_count": 180,
   "id": "dfbf9766",
   "metadata": {},
   "outputs": [],
   "source": [
    "championship_data.to_csv(\"data/tun22.csv\", index=False, encoding=\"utf-8\")"
   ]
  }
 ],
 "metadata": {
  "kernelspec": {
   "display_name": "Python 3",
   "language": "python",
   "name": "python3"
  },
  "language_info": {
   "codemirror_mode": {
    "name": "ipython",
    "version": 3
   },
   "file_extension": ".py",
   "mimetype": "text/x-python",
   "name": "python",
   "nbconvert_exporter": "python",
   "pygments_lexer": "ipython3",
   "version": "3.13.1"
  }
 },
 "nbformat": 4,
 "nbformat_minor": 5
}
